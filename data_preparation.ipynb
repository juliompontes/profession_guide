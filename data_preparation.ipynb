{
 "cells": [
  {
   "cell_type": "code",
   "execution_count": 1,
   "id": "07732db2",
   "metadata": {},
   "outputs": [
    {
     "name": "stdout",
     "output_type": "stream",
     "text": [
      "Requirement already satisfied: dask[dataframe] in /home/user/anaconda3/lib/python3.7/site-packages (1.1.4)\n",
      "Requirement already satisfied: cloudpickle>=0.2.1 in /home/user/anaconda3/lib/python3.7/site-packages (from dask[dataframe]) (2.0.0)\n",
      "Requirement already satisfied: partd>=0.3.8 in /home/user/anaconda3/lib/python3.7/site-packages (from dask[dataframe]) (0.3.10)\n",
      "Requirement already satisfied: numpy>=1.11.0 in /home/user/anaconda3/lib/python3.7/site-packages (from dask[dataframe]) (1.19.0)\n",
      "Requirement already satisfied: pandas>=0.19.0 in /home/user/anaconda3/lib/python3.7/site-packages (from dask[dataframe]) (1.3.4)\n",
      "Requirement already satisfied: toolz>=0.7.3 in /home/user/anaconda3/lib/python3.7/site-packages (from dask[dataframe]) (0.9.0)\n",
      "Requirement already satisfied: pytz>=2017.3 in /home/user/anaconda3/lib/python3.7/site-packages (from pandas>=0.19.0->dask[dataframe]) (2021.3)\n",
      "Requirement already satisfied: python-dateutil>=2.7.3 in /home/user/anaconda3/lib/python3.7/site-packages (from pandas>=0.19.0->dask[dataframe]) (2.8.2)\n",
      "Requirement already satisfied: locket in /home/user/anaconda3/lib/python3.7/site-packages (from partd>=0.3.8->dask[dataframe]) (0.2.0)\n",
      "Requirement already satisfied: six>=1.5 in /home/user/anaconda3/lib/python3.7/site-packages (from python-dateutil>=2.7.3->pandas>=0.19.0->dask[dataframe]) (1.16.0)\n",
      "\u001b[33mWARNING: You are using pip version 21.3; however, version 21.3.1 is available.\n",
      "You should consider upgrading via the '/home/user/anaconda3/bin/python -m pip install --upgrade pip' command.\u001b[0m\n"
     ]
    },
    {
     "name": "stderr",
     "output_type": "stream",
     "text": [
      "/home/user/anaconda3/lib/python3.7/site-packages/dask/dataframe/utils.py:13: FutureWarning: pandas.util.testing is deprecated. Use the functions in the public API at pandas.testing instead.\n",
      "  import pandas.util.testing as tm\n"
     ]
    }
   ],
   "source": [
    "# Instalação de pacotes e importação das bibliotecas que serão utilizadas no projeto\n",
    "!python -m pip install \"dask[dataframe]\"\n",
    "\n",
    "import pandas as pd\n",
    "import numpy as np\n",
    "import dask.dataframe as dd\n",
    "\n",
    "import shutil"
   ]
  },
  {
   "cell_type": "code",
   "execution_count": 2,
   "id": "0f9b19df",
   "metadata": {},
   "outputs": [],
   "source": [
    "# filtragem das variáveis com as quais quero trabalhar\n",
    "cols = ['CBO Ocupação 2002', 'Faixa Etária', 'Município', \n",
    "        'Vl Remun Média Nom', 'Sexo Trabalhador']"
   ]
  },
  {
   "cell_type": "code",
   "execution_count": 3,
   "id": "2efc2627",
   "metadata": {},
   "outputs": [],
   "source": [
    "# leitura dos arquivos em um dataframe dask\n",
    "df = dd.read_csv('rais_raw_data/RAIS_VINC*',sep = \";\", encoding= \"ISO-8859-1\", usecols = cols, low_memory=False, \n",
    "                 dtype={'CBO Ocupação 2002': 'object','Faixa Etária': 'object'})"
   ]
  },
  {
   "cell_type": "code",
   "execution_count": 4,
   "id": "651bc76d",
   "metadata": {},
   "outputs": [],
   "source": [
    "# remoção de linhas que não interessam ao projeto e consequente redução do dataset\n",
    "df = df[df['CBO Ocupação 2002'].str.startswith('2')]"
   ]
  },
  {
   "cell_type": "code",
   "execution_count": 5,
   "id": "cad41d61",
   "metadata": {},
   "outputs": [],
   "source": [
    "# transformação de um dask dataframe para um pandas dataframe\n",
    "df = df.compute()"
   ]
  },
  {
   "cell_type": "code",
   "execution_count": 6,
   "id": "80086cf8",
   "metadata": {},
   "outputs": [
    {
     "data": {
      "text/plain": [
       "(7072962, 5)"
      ]
     },
     "execution_count": 6,
     "metadata": {},
     "output_type": "execute_result"
    }
   ],
   "source": [
    "# verificação do número de linhas e colunas do dataframe\n",
    "df.shape"
   ]
  },
  {
   "cell_type": "code",
   "execution_count": 7,
   "id": "af74d56b",
   "metadata": {},
   "outputs": [
    {
     "data": {
      "text/html": [
       "<div>\n",
       "<style scoped>\n",
       "    .dataframe tbody tr th:only-of-type {\n",
       "        vertical-align: middle;\n",
       "    }\n",
       "\n",
       "    .dataframe tbody tr th {\n",
       "        vertical-align: top;\n",
       "    }\n",
       "\n",
       "    .dataframe thead th {\n",
       "        text-align: right;\n",
       "    }\n",
       "</style>\n",
       "<table border=\"1\" class=\"dataframe\">\n",
       "  <thead>\n",
       "    <tr style=\"text-align: right;\">\n",
       "      <th></th>\n",
       "      <th>CBO Ocupação 2002</th>\n",
       "      <th>Faixa Etária</th>\n",
       "      <th>Município</th>\n",
       "      <th>Vl Remun Média Nom</th>\n",
       "      <th>Sexo Trabalhador</th>\n",
       "    </tr>\n",
       "  </thead>\n",
       "  <tbody>\n",
       "    <tr>\n",
       "      <th>380</th>\n",
       "      <td>231305</td>\n",
       "      <td>05</td>\n",
       "      <td>500240</td>\n",
       "      <td>0000003591,52</td>\n",
       "      <td>1</td>\n",
       "    </tr>\n",
       "    <tr>\n",
       "      <th>758</th>\n",
       "      <td>231305</td>\n",
       "      <td>05</td>\n",
       "      <td>500240</td>\n",
       "      <td>0000003750,03</td>\n",
       "      <td>1</td>\n",
       "    </tr>\n",
       "    <tr>\n",
       "      <th>770</th>\n",
       "      <td>252210</td>\n",
       "      <td>05</td>\n",
       "      <td>500580</td>\n",
       "      <td>0000000000,00</td>\n",
       "      <td>1</td>\n",
       "    </tr>\n",
       "    <tr>\n",
       "      <th>771</th>\n",
       "      <td>252210</td>\n",
       "      <td>05</td>\n",
       "      <td>500580</td>\n",
       "      <td>0000013500,00</td>\n",
       "      <td>1</td>\n",
       "    </tr>\n",
       "    <tr>\n",
       "      <th>781</th>\n",
       "      <td>224125</td>\n",
       "      <td>03</td>\n",
       "      <td>500210</td>\n",
       "      <td>0000001224,28</td>\n",
       "      <td>1</td>\n",
       "    </tr>\n",
       "  </tbody>\n",
       "</table>\n",
       "</div>"
      ],
      "text/plain": [
       "    CBO Ocupação 2002 Faixa Etária  Município Vl Remun Média Nom  \\\n",
       "380            231305           05     500240      0000003591,52   \n",
       "758            231305           05     500240      0000003750,03   \n",
       "770            252210           05     500580      0000000000,00   \n",
       "771            252210           05     500580      0000013500,00   \n",
       "781            224125           03     500210      0000001224,28   \n",
       "\n",
       "     Sexo Trabalhador  \n",
       "380                 1  \n",
       "758                 1  \n",
       "770                 1  \n",
       "771                 1  \n",
       "781                 1  "
      ]
     },
     "execution_count": 7,
     "metadata": {},
     "output_type": "execute_result"
    }
   ],
   "source": [
    "df.head()"
   ]
  },
  {
   "cell_type": "code",
   "execution_count": 8,
   "id": "24853c70",
   "metadata": {},
   "outputs": [],
   "source": [
    "# carregando os dados complementares do projeto em dataframes pandas\n",
    "cbo = pd.read_csv('supplementary_data/cbo.csv')\n",
    "estado = pd.read_csv('supplementary_data/estado.csv')"
   ]
  },
  {
   "cell_type": "code",
   "execution_count": 9,
   "id": "50c234ae",
   "metadata": {},
   "outputs": [
    {
     "data": {
      "text/html": [
       "<div>\n",
       "<style scoped>\n",
       "    .dataframe tbody tr th:only-of-type {\n",
       "        vertical-align: middle;\n",
       "    }\n",
       "\n",
       "    .dataframe tbody tr th {\n",
       "        vertical-align: top;\n",
       "    }\n",
       "\n",
       "    .dataframe thead th {\n",
       "        text-align: right;\n",
       "    }\n",
       "</style>\n",
       "<table border=\"1\" class=\"dataframe\">\n",
       "  <thead>\n",
       "    <tr style=\"text-align: right;\">\n",
       "      <th></th>\n",
       "      <th>CBO Ocupação 2002</th>\n",
       "      <th>Profissão</th>\n",
       "    </tr>\n",
       "  </thead>\n",
       "  <tbody>\n",
       "    <tr>\n",
       "      <th>0</th>\n",
       "      <td>251505</td>\n",
       "      <td>Psicólogo(a)</td>\n",
       "    </tr>\n",
       "    <tr>\n",
       "      <th>1</th>\n",
       "      <td>251510</td>\n",
       "      <td>Psicólogo(a)</td>\n",
       "    </tr>\n",
       "    <tr>\n",
       "      <th>2</th>\n",
       "      <td>251515</td>\n",
       "      <td>Psicólogo(a)</td>\n",
       "    </tr>\n",
       "    <tr>\n",
       "      <th>3</th>\n",
       "      <td>251520</td>\n",
       "      <td>Psicólogo(a)</td>\n",
       "    </tr>\n",
       "    <tr>\n",
       "      <th>4</th>\n",
       "      <td>251525</td>\n",
       "      <td>Psicólogo(a)</td>\n",
       "    </tr>\n",
       "  </tbody>\n",
       "</table>\n",
       "</div>"
      ],
      "text/plain": [
       "  CBO Ocupação 2002     Profissão\n",
       "0            251505  Psicólogo(a)\n",
       "1            251510  Psicólogo(a)\n",
       "2            251515  Psicólogo(a)\n",
       "3            251520  Psicólogo(a)\n",
       "4            251525  Psicólogo(a)"
      ]
     },
     "execution_count": 9,
     "metadata": {},
     "output_type": "execute_result"
    }
   ],
   "source": [
    "cbo.head()"
   ]
  },
  {
   "cell_type": "code",
   "execution_count": 10,
   "id": "4da91858",
   "metadata": {},
   "outputs": [
    {
     "data": {
      "text/html": [
       "<div>\n",
       "<style scoped>\n",
       "    .dataframe tbody tr th:only-of-type {\n",
       "        vertical-align: middle;\n",
       "    }\n",
       "\n",
       "    .dataframe tbody tr th {\n",
       "        vertical-align: top;\n",
       "    }\n",
       "\n",
       "    .dataframe thead th {\n",
       "        text-align: right;\n",
       "    }\n",
       "</style>\n",
       "<table border=\"1\" class=\"dataframe\">\n",
       "  <thead>\n",
       "    <tr style=\"text-align: right;\">\n",
       "      <th></th>\n",
       "      <th>Município</th>\n",
       "      <th>Estado</th>\n",
       "    </tr>\n",
       "  </thead>\n",
       "  <tbody>\n",
       "    <tr>\n",
       "      <th>0</th>\n",
       "      <td>110001</td>\n",
       "      <td>Rondônia</td>\n",
       "    </tr>\n",
       "    <tr>\n",
       "      <th>1</th>\n",
       "      <td>110002</td>\n",
       "      <td>Rondônia</td>\n",
       "    </tr>\n",
       "    <tr>\n",
       "      <th>2</th>\n",
       "      <td>110003</td>\n",
       "      <td>Rondônia</td>\n",
       "    </tr>\n",
       "    <tr>\n",
       "      <th>3</th>\n",
       "      <td>110004</td>\n",
       "      <td>Rondônia</td>\n",
       "    </tr>\n",
       "    <tr>\n",
       "      <th>4</th>\n",
       "      <td>110005</td>\n",
       "      <td>Rondônia</td>\n",
       "    </tr>\n",
       "  </tbody>\n",
       "</table>\n",
       "</div>"
      ],
      "text/plain": [
       "   Município    Estado\n",
       "0     110001  Rondônia\n",
       "1     110002  Rondônia\n",
       "2     110003  Rondônia\n",
       "3     110004  Rondônia\n",
       "4     110005  Rondônia"
      ]
     },
     "execution_count": 10,
     "metadata": {},
     "output_type": "execute_result"
    }
   ],
   "source": [
    "estado.head()"
   ]
  },
  {
   "cell_type": "code",
   "execution_count": 11,
   "id": "3f52ac59",
   "metadata": {},
   "outputs": [],
   "source": [
    "# junção - join - do dataframe original com o dataframe com os nomes das profissões\n",
    "data = pd.merge(df, cbo, on='CBO Ocupação 2002', how ='left')"
   ]
  },
  {
   "cell_type": "code",
   "execution_count": 12,
   "id": "3c9f58d3",
   "metadata": {},
   "outputs": [
    {
     "data": {
      "text/html": [
       "<div>\n",
       "<style scoped>\n",
       "    .dataframe tbody tr th:only-of-type {\n",
       "        vertical-align: middle;\n",
       "    }\n",
       "\n",
       "    .dataframe tbody tr th {\n",
       "        vertical-align: top;\n",
       "    }\n",
       "\n",
       "    .dataframe thead th {\n",
       "        text-align: right;\n",
       "    }\n",
       "</style>\n",
       "<table border=\"1\" class=\"dataframe\">\n",
       "  <thead>\n",
       "    <tr style=\"text-align: right;\">\n",
       "      <th></th>\n",
       "      <th>CBO Ocupação 2002</th>\n",
       "      <th>Faixa Etária</th>\n",
       "      <th>Município</th>\n",
       "      <th>Vl Remun Média Nom</th>\n",
       "      <th>Sexo Trabalhador</th>\n",
       "      <th>Profissão</th>\n",
       "    </tr>\n",
       "  </thead>\n",
       "  <tbody>\n",
       "    <tr>\n",
       "      <th>0</th>\n",
       "      <td>231305</td>\n",
       "      <td>05</td>\n",
       "      <td>500240</td>\n",
       "      <td>0000003591,52</td>\n",
       "      <td>1</td>\n",
       "      <td>NaN</td>\n",
       "    </tr>\n",
       "    <tr>\n",
       "      <th>1</th>\n",
       "      <td>231305</td>\n",
       "      <td>05</td>\n",
       "      <td>500240</td>\n",
       "      <td>0000003750,03</td>\n",
       "      <td>1</td>\n",
       "      <td>NaN</td>\n",
       "    </tr>\n",
       "    <tr>\n",
       "      <th>2</th>\n",
       "      <td>252210</td>\n",
       "      <td>05</td>\n",
       "      <td>500580</td>\n",
       "      <td>0000000000,00</td>\n",
       "      <td>1</td>\n",
       "      <td>NaN</td>\n",
       "    </tr>\n",
       "    <tr>\n",
       "      <th>3</th>\n",
       "      <td>252210</td>\n",
       "      <td>05</td>\n",
       "      <td>500580</td>\n",
       "      <td>0000013500,00</td>\n",
       "      <td>1</td>\n",
       "      <td>NaN</td>\n",
       "    </tr>\n",
       "    <tr>\n",
       "      <th>4</th>\n",
       "      <td>224125</td>\n",
       "      <td>03</td>\n",
       "      <td>500210</td>\n",
       "      <td>0000001224,28</td>\n",
       "      <td>1</td>\n",
       "      <td>NaN</td>\n",
       "    </tr>\n",
       "  </tbody>\n",
       "</table>\n",
       "</div>"
      ],
      "text/plain": [
       "  CBO Ocupação 2002 Faixa Etária  Município Vl Remun Média Nom  \\\n",
       "0            231305           05     500240      0000003591,52   \n",
       "1            231305           05     500240      0000003750,03   \n",
       "2            252210           05     500580      0000000000,00   \n",
       "3            252210           05     500580      0000013500,00   \n",
       "4            224125           03     500210      0000001224,28   \n",
       "\n",
       "   Sexo Trabalhador Profissão  \n",
       "0                 1       NaN  \n",
       "1                 1       NaN  \n",
       "2                 1       NaN  \n",
       "3                 1       NaN  \n",
       "4                 1       NaN  "
      ]
     },
     "execution_count": 12,
     "metadata": {},
     "output_type": "execute_result"
    }
   ],
   "source": [
    "data.head()"
   ]
  },
  {
   "cell_type": "code",
   "execution_count": 13,
   "id": "0707b8ee",
   "metadata": {},
   "outputs": [],
   "source": [
    "# remoção das linhas sem o nome de alguma profissão\n",
    "data = data[data['Profissão'].notnull()]"
   ]
  },
  {
   "cell_type": "code",
   "execution_count": 14,
   "id": "56b21195",
   "metadata": {},
   "outputs": [
    {
     "data": {
      "text/plain": [
       "(1830924, 6)"
      ]
     },
     "execution_count": 14,
     "metadata": {},
     "output_type": "execute_result"
    }
   ],
   "source": [
    "data.shape"
   ]
  },
  {
   "cell_type": "code",
   "execution_count": 15,
   "id": "a8c9d781",
   "metadata": {},
   "outputs": [],
   "source": [
    "# junção - join - do dataframe anterior com o dataframe com os estados\n",
    "data = pd.merge(data,estado,on ='Município', how ='left')"
   ]
  },
  {
   "cell_type": "code",
   "execution_count": 16,
   "id": "18735f3c",
   "metadata": {
    "scrolled": true
   },
   "outputs": [
    {
     "data": {
      "text/html": [
       "<div>\n",
       "<style scoped>\n",
       "    .dataframe tbody tr th:only-of-type {\n",
       "        vertical-align: middle;\n",
       "    }\n",
       "\n",
       "    .dataframe tbody tr th {\n",
       "        vertical-align: top;\n",
       "    }\n",
       "\n",
       "    .dataframe thead th {\n",
       "        text-align: right;\n",
       "    }\n",
       "</style>\n",
       "<table border=\"1\" class=\"dataframe\">\n",
       "  <thead>\n",
       "    <tr style=\"text-align: right;\">\n",
       "      <th></th>\n",
       "      <th>CBO Ocupação 2002</th>\n",
       "      <th>Faixa Etária</th>\n",
       "      <th>Município</th>\n",
       "      <th>Vl Remun Média Nom</th>\n",
       "      <th>Sexo Trabalhador</th>\n",
       "      <th>Profissão</th>\n",
       "      <th>Estado</th>\n",
       "    </tr>\n",
       "  </thead>\n",
       "  <tbody>\n",
       "    <tr>\n",
       "      <th>0</th>\n",
       "      <td>251225</td>\n",
       "      <td>06</td>\n",
       "      <td>500110</td>\n",
       "      <td>0000002687,50</td>\n",
       "      <td>1</td>\n",
       "      <td>Economista</td>\n",
       "      <td>Mato Grosso do Sul</td>\n",
       "    </tr>\n",
       "    <tr>\n",
       "      <th>1</th>\n",
       "      <td>212420</td>\n",
       "      <td>05</td>\n",
       "      <td>500270</td>\n",
       "      <td>0000002974,42</td>\n",
       "      <td>1</td>\n",
       "      <td>Analista de sistemas</td>\n",
       "      <td>Mato Grosso do Sul</td>\n",
       "    </tr>\n",
       "    <tr>\n",
       "      <th>2</th>\n",
       "      <td>212420</td>\n",
       "      <td>05</td>\n",
       "      <td>500270</td>\n",
       "      <td>0000003591,73</td>\n",
       "      <td>1</td>\n",
       "      <td>Analista de sistemas</td>\n",
       "      <td>Mato Grosso do Sul</td>\n",
       "    </tr>\n",
       "    <tr>\n",
       "      <th>3</th>\n",
       "      <td>212420</td>\n",
       "      <td>05</td>\n",
       "      <td>500570</td>\n",
       "      <td>0000000000,00</td>\n",
       "      <td>1</td>\n",
       "      <td>Analista de sistemas</td>\n",
       "      <td>Mato Grosso do Sul</td>\n",
       "    </tr>\n",
       "    <tr>\n",
       "      <th>4</th>\n",
       "      <td>212420</td>\n",
       "      <td>05</td>\n",
       "      <td>500620</td>\n",
       "      <td>0000001200,00</td>\n",
       "      <td>1</td>\n",
       "      <td>Analista de sistemas</td>\n",
       "      <td>Mato Grosso do Sul</td>\n",
       "    </tr>\n",
       "  </tbody>\n",
       "</table>\n",
       "</div>"
      ],
      "text/plain": [
       "  CBO Ocupação 2002 Faixa Etária  Município Vl Remun Média Nom  \\\n",
       "0            251225           06     500110      0000002687,50   \n",
       "1            212420           05     500270      0000002974,42   \n",
       "2            212420           05     500270      0000003591,73   \n",
       "3            212420           05     500570      0000000000,00   \n",
       "4            212420           05     500620      0000001200,00   \n",
       "\n",
       "   Sexo Trabalhador             Profissão              Estado  \n",
       "0                 1            Economista  Mato Grosso do Sul  \n",
       "1                 1  Analista de sistemas  Mato Grosso do Sul  \n",
       "2                 1  Analista de sistemas  Mato Grosso do Sul  \n",
       "3                 1  Analista de sistemas  Mato Grosso do Sul  \n",
       "4                 1  Analista de sistemas  Mato Grosso do Sul  "
      ]
     },
     "execution_count": 16,
     "metadata": {},
     "output_type": "execute_result"
    }
   ],
   "source": [
    "data.head()"
   ]
  },
  {
   "cell_type": "code",
   "execution_count": 17,
   "id": "7ab1d440",
   "metadata": {},
   "outputs": [],
   "source": [
    "# remoção das colunas com o código do CBO e com o município\n",
    "data.drop(['CBO Ocupação 2002','Município'], axis=1, inplace=True)"
   ]
  },
  {
   "cell_type": "code",
   "execution_count": 18,
   "id": "c26f2c1b",
   "metadata": {},
   "outputs": [],
   "source": [
    "data['Vl Remun Média Nom']=data['Vl Remun Média Nom'].str.replace(',','.')"
   ]
  },
  {
   "cell_type": "code",
   "execution_count": 19,
   "id": "3a7898dc",
   "metadata": {},
   "outputs": [],
   "source": [
    "# transformação das variáveis com os valores dos salários de \"object\" para \"float64\"\n",
    "data[\"Vl Remun Média Nom\"] = pd.to_numeric(data[\"Vl Remun Média Nom\"])"
   ]
  },
  {
   "cell_type": "code",
   "execution_count": 20,
   "id": "fb37254a",
   "metadata": {},
   "outputs": [
    {
     "data": {
      "text/plain": [
       "Faixa Etária           object\n",
       "Vl Remun Média Nom    float64\n",
       "Sexo Trabalhador        int64\n",
       "Profissão              object\n",
       "Estado                 object\n",
       "dtype: object"
      ]
     },
     "execution_count": 20,
     "metadata": {},
     "output_type": "execute_result"
    }
   ],
   "source": [
    "data.dtypes"
   ]
  },
  {
   "cell_type": "code",
   "execution_count": 21,
   "id": "1e8ee43a",
   "metadata": {},
   "outputs": [],
   "source": [
    "# remoção das linhas em que os valores de salário são iguais a 0\n",
    "data = data[data['Vl Remun Média Nom'] > 0]"
   ]
  },
  {
   "cell_type": "code",
   "execution_count": 22,
   "id": "2e35a4b4",
   "metadata": {},
   "outputs": [
    {
     "data": {
      "text/plain": [
       "(1763221, 5)"
      ]
     },
     "execution_count": 22,
     "metadata": {},
     "output_type": "execute_result"
    }
   ],
   "source": [
    "data.shape"
   ]
  },
  {
   "cell_type": "code",
   "execution_count": 23,
   "id": "089b1afb",
   "metadata": {},
   "outputs": [],
   "source": [
    "# troca da codificação da coluna \"Faixa Etária\" pelo valor de fato da variável \"Faixa Etária\"\n",
    "data['Faixa Etária'] = data['Faixa Etária'].map({'01': '10 a 14 anos',\n",
    "                                               '02': '15 a 17 anos',\n",
    "                                               '03': '18 a 24 anos',\n",
    "                                               '04': '25 a 29 anos',\n",
    "                                               '05': '30 a 39 anos',\n",
    "                                               '06': '40 a 49 anos',\n",
    "                                               '07': '50 a 64 anos',\n",
    "                                               '08': '65 anos ou mais'\n",
    "                                              }\n",
    "                                             )"
   ]
  },
  {
   "cell_type": "code",
   "execution_count": 24,
   "id": "1cc19198",
   "metadata": {},
   "outputs": [],
   "source": [
    "# troca da codificação da coluna \"Sexo Trabalhador\" pelo valor de fato da variável \"Sexo Trabalhador\"\n",
    "data['Sexo Trabalhador'] = data['Sexo Trabalhador'].map({1: 'Masculino',\n",
    "                                                         2: 'Feminino',\n",
    "                                                        -1: 'sem informacao'\n",
    "                                                        }\n",
    "                                                       )"
   ]
  },
  {
   "cell_type": "code",
   "execution_count": 25,
   "id": "69f5e355",
   "metadata": {},
   "outputs": [],
   "source": [
    "# renomeação dos nomes das colunas\n",
    "data.rename(columns={'Vl Remun Média Nom' : 'Remuneração (em R$)',\n",
    "                     'Sexo Trabalhador': 'Gênero', \n",
    "                     }, \n",
    "            inplace=True)"
   ]
  },
  {
   "cell_type": "code",
   "execution_count": 26,
   "id": "ceaf168e",
   "metadata": {},
   "outputs": [
    {
     "data": {
      "text/html": [
       "<div>\n",
       "<style scoped>\n",
       "    .dataframe tbody tr th:only-of-type {\n",
       "        vertical-align: middle;\n",
       "    }\n",
       "\n",
       "    .dataframe tbody tr th {\n",
       "        vertical-align: top;\n",
       "    }\n",
       "\n",
       "    .dataframe thead th {\n",
       "        text-align: right;\n",
       "    }\n",
       "</style>\n",
       "<table border=\"1\" class=\"dataframe\">\n",
       "  <thead>\n",
       "    <tr style=\"text-align: right;\">\n",
       "      <th></th>\n",
       "      <th>Faixa Etária</th>\n",
       "      <th>Remuneração (em R$)</th>\n",
       "      <th>Gênero</th>\n",
       "      <th>Profissão</th>\n",
       "      <th>Estado</th>\n",
       "    </tr>\n",
       "  </thead>\n",
       "  <tbody>\n",
       "    <tr>\n",
       "      <th>0</th>\n",
       "      <td>40 a 49 anos</td>\n",
       "      <td>2687.50</td>\n",
       "      <td>Masculino</td>\n",
       "      <td>Economista</td>\n",
       "      <td>Mato Grosso do Sul</td>\n",
       "    </tr>\n",
       "    <tr>\n",
       "      <th>1</th>\n",
       "      <td>30 a 39 anos</td>\n",
       "      <td>2974.42</td>\n",
       "      <td>Masculino</td>\n",
       "      <td>Analista de sistemas</td>\n",
       "      <td>Mato Grosso do Sul</td>\n",
       "    </tr>\n",
       "    <tr>\n",
       "      <th>2</th>\n",
       "      <td>30 a 39 anos</td>\n",
       "      <td>3591.73</td>\n",
       "      <td>Masculino</td>\n",
       "      <td>Analista de sistemas</td>\n",
       "      <td>Mato Grosso do Sul</td>\n",
       "    </tr>\n",
       "    <tr>\n",
       "      <th>4</th>\n",
       "      <td>30 a 39 anos</td>\n",
       "      <td>1200.00</td>\n",
       "      <td>Masculino</td>\n",
       "      <td>Analista de sistemas</td>\n",
       "      <td>Mato Grosso do Sul</td>\n",
       "    </tr>\n",
       "    <tr>\n",
       "      <th>5</th>\n",
       "      <td>18 a 24 anos</td>\n",
       "      <td>1200.00</td>\n",
       "      <td>Masculino</td>\n",
       "      <td>Analista de sistemas</td>\n",
       "      <td>Mato Grosso do Sul</td>\n",
       "    </tr>\n",
       "  </tbody>\n",
       "</table>\n",
       "</div>"
      ],
      "text/plain": [
       "   Faixa Etária  Remuneração (em R$)     Gênero             Profissão  \\\n",
       "0  40 a 49 anos              2687.50  Masculino            Economista   \n",
       "1  30 a 39 anos              2974.42  Masculino  Analista de sistemas   \n",
       "2  30 a 39 anos              3591.73  Masculino  Analista de sistemas   \n",
       "4  30 a 39 anos              1200.00  Masculino  Analista de sistemas   \n",
       "5  18 a 24 anos              1200.00  Masculino  Analista de sistemas   \n",
       "\n",
       "               Estado  \n",
       "0  Mato Grosso do Sul  \n",
       "1  Mato Grosso do Sul  \n",
       "2  Mato Grosso do Sul  \n",
       "4  Mato Grosso do Sul  \n",
       "5  Mato Grosso do Sul  "
      ]
     },
     "execution_count": 26,
     "metadata": {},
     "output_type": "execute_result"
    }
   ],
   "source": [
    "data.head()"
   ]
  },
  {
   "cell_type": "code",
   "execution_count": 27,
   "id": "b2c646b1",
   "metadata": {
    "scrolled": true
   },
   "outputs": [
    {
     "data": {
      "text/plain": [
       "30 a 39 anos       720491\n",
       "40 a 49 anos       381844\n",
       "25 a 29 anos       282559\n",
       "50 a 64 anos       251748\n",
       "18 a 24 anos        78348\n",
       "65 anos ou mais     47966\n",
       "15 a 17 anos          258\n",
       "10 a 14 anos            4\n",
       "Name: Faixa Etária, dtype: int64"
      ]
     },
     "execution_count": 27,
     "metadata": {},
     "output_type": "execute_result"
    }
   ],
   "source": [
    "# distribuição dos valores da variável \"Faixa Etária\"\n",
    "data['Faixa Etária'].value_counts()"
   ]
  },
  {
   "cell_type": "code",
   "execution_count": 28,
   "id": "cc6a47a5",
   "metadata": {},
   "outputs": [],
   "source": [
    "# remoção de linhas com preenchimento provavelmente incorreto\n",
    "data.drop(data.loc[data['Faixa Etária']=='15 a 17 anos'].index, inplace=True)\n",
    "data.drop(data.loc[data['Faixa Etária']=='10 a 14 anos'].index, inplace=True)"
   ]
  },
  {
   "cell_type": "code",
   "execution_count": 29,
   "id": "c5215991",
   "metadata": {},
   "outputs": [
    {
     "data": {
      "text/plain": [
       "Feminino     908790\n",
       "Masculino    854169\n",
       "Name: Gênero, dtype: int64"
      ]
     },
     "execution_count": 29,
     "metadata": {},
     "output_type": "execute_result"
    }
   ],
   "source": [
    "# distribuição dos valores da variável \"Gênero\"\n",
    "data['Gênero'].value_counts()"
   ]
  },
  {
   "cell_type": "code",
   "execution_count": 30,
   "id": "7b7b2972",
   "metadata": {},
   "outputs": [
    {
     "data": {
      "text/plain": [
       "Analista de sistemas        414797\n",
       "Enfermeiro(a)               355883\n",
       "Medico(a)                   316154\n",
       "Engenheiro(a)               209871\n",
       "Advogado(a)                  86253\n",
       "Psicólogo(a)                 77794\n",
       "Dentista                     75335\n",
       "Fisioterapeuta               72932\n",
       "Nutricionista                59832\n",
       "Economista                   52790\n",
       "Medico(a) veterinario(a)     23757\n",
       "Arquiteto(a)                 17561\n",
       "Name: Profissão, dtype: int64"
      ]
     },
     "execution_count": 30,
     "metadata": {},
     "output_type": "execute_result"
    }
   ],
   "source": [
    "# distribuição dos valores da variável \"Profissão\"\n",
    "data['Profissão'].value_counts()"
   ]
  },
  {
   "cell_type": "code",
   "execution_count": 31,
   "id": "eb564b70",
   "metadata": {
    "scrolled": true
   },
   "outputs": [
    {
     "data": {
      "text/plain": [
       "São Paulo              597647\n",
       "Rio de Janeiro         192102\n",
       "Minas Gerais           187255\n",
       "Paraná                  96335\n",
       "Rio Grande do Sul       94523\n",
       "Santa Catarina          71937\n",
       "Bahia                   71249\n",
       "Distrito Federal        61752\n",
       "Pernambuco              60591\n",
       "Ceará                   46316\n",
       "Espírito Santo          33608\n",
       "Goiás                   32048\n",
       "Pará                    30752\n",
       "Paraíba                 26077\n",
       "Mato Grosso do Sul      20923\n",
       "Rio Grande do Norte     19413\n",
       "Mato Grosso             18955\n",
       "Amazonas                17956\n",
       "Maranhão                17247\n",
       "Sergipe                 14612\n",
       "Piauí                   14459\n",
       "Tocantins               12175\n",
       "Alagoas                 11283\n",
       "Rondônia                 6825\n",
       "Acre                     2518\n",
       "Amapá                    2408\n",
       "Roraima                  1993\n",
       "Name: Estado, dtype: int64"
      ]
     },
     "execution_count": 31,
     "metadata": {},
     "output_type": "execute_result"
    }
   ],
   "source": [
    "# distribuição dos valores da variável \"Estado\"\n",
    "data['Estado'].value_counts()"
   ]
  },
  {
   "cell_type": "code",
   "execution_count": 32,
   "id": "d1992ec5",
   "metadata": {},
   "outputs": [],
   "source": [
    "# remoção das linhas em que os valores de salário são superiores a 30 mil\n",
    "data = data[data['Remuneração (em R$)'] < 30000]"
   ]
  },
  {
   "cell_type": "code",
   "execution_count": 33,
   "id": "3afa38e3",
   "metadata": {},
   "outputs": [],
   "source": [
    "salary_df = data[['Profissão', 'Remuneração (em R$)']]"
   ]
  },
  {
   "cell_type": "code",
   "execution_count": 34,
   "id": "f3279319",
   "metadata": {},
   "outputs": [],
   "source": [
    "age_df = data[['Profissão', 'Faixa Etária']]"
   ]
  },
  {
   "cell_type": "code",
   "execution_count": 35,
   "id": "96c4a56f",
   "metadata": {},
   "outputs": [],
   "source": [
    "gender_df = data[['Profissão', 'Gênero']]"
   ]
  },
  {
   "cell_type": "code",
   "execution_count": 36,
   "id": "89d29b8c",
   "metadata": {},
   "outputs": [],
   "source": [
    "local_df = data[['Profissão','Estado']]"
   ]
  },
  {
   "cell_type": "code",
   "execution_count": 37,
   "id": "a61e16ff",
   "metadata": {},
   "outputs": [],
   "source": [
    "# criação do dataset com dados de salário para desenvolvimento do data app\n",
    "salary_df.to_csv('salary.csv', index=False)"
   ]
  },
  {
   "cell_type": "code",
   "execution_count": 38,
   "id": "a059931c",
   "metadata": {},
   "outputs": [],
   "source": [
    "# criação do dataset com dados de idade para desenvolvimento do data app\n",
    "age_df.to_csv('age.csv', index=False)"
   ]
  },
  {
   "cell_type": "code",
   "execution_count": 39,
   "id": "e669ef1a",
   "metadata": {},
   "outputs": [],
   "source": [
    "# criação do dataset com dados de gênero para desenvolvimento do data app\n",
    "gender_df.to_csv('gender.csv', index=False)"
   ]
  },
  {
   "cell_type": "code",
   "execution_count": 40,
   "id": "6bf064e4",
   "metadata": {},
   "outputs": [],
   "source": [
    "# criação do dataset com dados de localização para desenvolvimento do data app\n",
    "local_df.to_csv('local.csv', index=False)"
   ]
  },
  {
   "cell_type": "code",
   "execution_count": 41,
   "id": "3d1e8c6b",
   "metadata": {
    "scrolled": true
   },
   "outputs": [
    {
     "data": {
      "text/plain": [
       "'app_dataset/local.csv'"
      ]
     },
     "execution_count": 41,
     "metadata": {},
     "output_type": "execute_result"
    }
   ],
   "source": [
    "# comando para mover o arquivo \"dataset.csv\" para o diretório \"app_dataset\"\n",
    "shutil.move(\"salary.csv\", \"app_dataset/salary.csv\")\n",
    "shutil.move(\"age.csv\", \"app_dataset/age.csv\")\n",
    "shutil.move(\"gender.csv\", \"app_dataset/gender.csv\")\n",
    "shutil.move(\"local.csv\", \"app_dataset/local.csv\")"
   ]
  }
 ],
 "metadata": {
  "kernelspec": {
   "display_name": "Python 3",
   "language": "python",
   "name": "python3"
  },
  "language_info": {
   "codemirror_mode": {
    "name": "ipython",
    "version": 3
   },
   "file_extension": ".py",
   "mimetype": "text/x-python",
   "name": "python",
   "nbconvert_exporter": "python",
   "pygments_lexer": "ipython3",
   "version": "3.7.3"
  }
 },
 "nbformat": 4,
 "nbformat_minor": 5
}
